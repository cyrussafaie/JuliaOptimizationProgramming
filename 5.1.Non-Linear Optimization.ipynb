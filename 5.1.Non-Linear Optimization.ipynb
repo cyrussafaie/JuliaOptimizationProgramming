{
 "cells": [
  {
   "cell_type": "markdown",
   "metadata": {},
   "source": [
    "1 - Write a Julia code for  $f(x)$\n",
    "  and  $Df(x)$\n",
    " . Run the Newthon-Raphson method and search for the solution. Prepare a table with values for  x\n",
    " ,  $f(x)$\n",
    " ,  $Df^{-1}(x)$\n",
    " , and  $err$\n",
    "  for each iteration. Explain what is happening during the iterations. Is the algorithm converging? Why or why not? Choose your initial values carefully.\n",
    "  \n",
    "  $f_1(x_1,x_2,x_3)=x_1+x_2+x^2_3−{12}$\n",
    "  \n",
    " $f_2(x_1,x_2,x_3)=x^2_1 − x_2 + x_3 −2$\n",
    "  \n",
    "  $f_3(x_1,x_2,x_3)=2x^2_1−x^2_2+x_3−1$\n",
    " \n",
    " \n"
   ]
  },
  {
   "cell_type": "code",
   "execution_count": 23,
   "metadata": {
    "collapsed": false
   },
   "outputs": [
    {
     "name": "stderr",
     "output_type": "stream",
     "text": [
      "WARNING: Method definition f1(Any) in module Main at In[22]:10 overwritten at In[23]:10.\n",
      "WARNING: Method definition Df1(Any) in module Main at In[22]:17 overwritten at In[23]:17.\n"
     ]
    },
    {
     "data": {
      "text/html": [
       "<table class=\"data-frame\"><thead><tr><th></th><th>k</th><th>x</th><th>f</th><th>invDf1</th><th>invDf2</th><th>err</th></tr></thead><tbody><tr><th>1</th><td>0</td><td>1.0</td><td>-9.0</td><td>0.3333333333333333</td><td>-1.6666666666666665</td><td>0.3333333333333335</td></tr><tr><th>2</th><td>0</td><td>1.0</td><td>-1.0</td><td>0.6666666666666666</td><td>-2.333333333333333</td><td>2.666666666666667</td></tr><tr><th>3</th><td>1</td><td>1.3333333333333335</td><td>9.0</td><td>-0.06044538706256627</td><td>0.569459172852598</td><td>-0.11099328384588181</td></tr><tr><th>4</th><td>1</td><td>3.666666666666667</td><td>0.11111111111111116</td><td>-0.025450689289501588</td><td>0.3976670201484623</td><td>-1.1519971721456344</td></tr><tr><th>5</th><td>2</td><td>1.2223400494874517</td><td>0.9353330731887262</td><td>-0.10480111868319153</td><td>0.8194737441904661</td><td>-0.15143296161341668</td></tr><tr><th>6</th><td>2</td><td>2.5146694945210326</td><td>0.012319509058892564</td><td>-0.06358492295929052</td><td>0.7453706829389651</td><td>-0.4181785468386181</td></tr><tr><th>7</th><td>3</td><td>1.070907087874035</td><td>0.0036352347927639528</td><td>-0.1413487475845413</td><td>1.1477935663990189</td><td>-0.06547155218267608</td></tr><tr><th>8</th><td>3</td><td>2.0964909476824145</td><td>0.022931941863011396</td><td>-0.0948150541474383</td><td>1.0831131038877067</td><td>-0.09150357356246452</td></tr><tr><th>9</th><td>4</td><td>1.005435535691359</td><td>0.0006652470284329581</td><td>-0.1566324248421187</td><td>1.3033801628456287</td><td>-0.005409899697097487</td></tr><tr><th>10</th><td>4</td><td>2.00498737411995</td><td>0.004286524145208581</td><td>-0.10464128050898869</td><td>1.2029766916143498</td><td>-0.004971799394070775</td></tr><tr><th>11</th><td>5</td><td>1.0000256359942614</td><td>2.6253308078594273e-6</td><td>-0.15788926964051198</td><td>1.315737380823102</td><td>-2.563553095114024e-5</td></tr><tr><th>12</th><td>5</td><td>2.000015574725879</td><td>2.9267014732603513e-5</td><td>-0.10526111858390319</td><td>1.2105015052199508</td><td>-1.5574555210395857e-5</td></tr><tr><th>13</th><td>6</td><td>1.0000000004633103</td><td>4.135358722123783e-11</td><td>-0.1578947367507293</td><td>1.315789472839238</td><td>-4.633103900530955e-10</td></tr><tr><th>14</th><td>6</td><td>2.000000000170669</td><td>6.571809763045167e-10</td><td>-0.10526315787061236</td><td>1.2105263154948387</td><td>-1.7066881241589726e-10</td></tr><tr><th>15</th><td>7</td><td>0.9999999999999999</td><td>0.0</td><td>-0.1578947368421052</td><td>1.3157894736842106</td><td>1.1102230246251565e-16</td></tr><tr><th>16</th><td>7</td><td>2.0</td><td>-2.220446049250313e-16</td><td>-0.10526315789473684</td><td>1.2105263157894737</td><td>0.0</td></tr></tbody></table>"
      ],
      "text/plain": [
       "16×6 DataFrames.DataFrame\n",
       "│ Row │ k │ x       │ f            │ invDf1     │ invDf2   │ err          │\n",
       "├─────┼───┼─────────┼──────────────┼────────────┼──────────┼──────────────┤\n",
       "│ 1   │ 0 │ 1.0     │ -9.0         │ 0.333333   │ -1.66667 │ 0.333333     │\n",
       "│ 2   │ 0 │ 1.0     │ -1.0         │ 0.666667   │ -2.33333 │ 2.66667      │\n",
       "│ 3   │ 1 │ 1.33333 │ 9.0          │ -0.0604454 │ 0.569459 │ -0.110993    │\n",
       "│ 4   │ 1 │ 3.66667 │ 0.111111     │ -0.0254507 │ 0.397667 │ -1.152       │\n",
       "│ 5   │ 2 │ 1.22234 │ 0.935333     │ -0.104801  │ 0.819474 │ -0.151433    │\n",
       "│ 6   │ 2 │ 2.51467 │ 0.0123195    │ -0.0635849 │ 0.745371 │ -0.418179    │\n",
       "│ 7   │ 3 │ 1.07091 │ 0.00363523   │ -0.141349  │ 1.14779  │ -0.0654716   │\n",
       "│ 8   │ 3 │ 2.09649 │ 0.0229319    │ -0.0948151 │ 1.08311  │ -0.0915036   │\n",
       "│ 9   │ 4 │ 1.00544 │ 0.000665247  │ -0.156632  │ 1.30338  │ -0.0054099   │\n",
       "│ 10  │ 4 │ 2.00499 │ 0.00428652   │ -0.104641  │ 1.20298  │ -0.0049718   │\n",
       "│ 11  │ 5 │ 1.00003 │ 2.62533e-6   │ -0.157889  │ 1.31574  │ -2.56355e-5  │\n",
       "│ 12  │ 5 │ 2.00002 │ 2.9267e-5    │ -0.105261  │ 1.2105   │ -1.55746e-5  │\n",
       "│ 13  │ 6 │ 1.0     │ 4.13536e-11  │ -0.157895  │ 1.31579  │ -4.6331e-10  │\n",
       "│ 14  │ 6 │ 2.0     │ 6.57181e-10  │ -0.105263  │ 1.21053  │ -1.70669e-10 │\n",
       "│ 15  │ 7 │ 1.0     │ 0.0          │ -0.157895  │ 1.31579  │ 1.11022e-16  │\n",
       "│ 16  │ 7 │ 2.0     │ -2.22045e-16 │ -0.105263  │ 1.21053  │ 0.0          │"
      ]
     },
     "execution_count": 23,
     "metadata": {},
     "output_type": "execute_result"
    }
   ],
   "source": [
    "using DataFrames\n",
    "\n",
    "tol = 10.0^(-10)\n",
    "err = 10.0^5\n",
    "x0 = [1.0; 1.0;1.0]\n",
    "\n",
    "x = copy(x0)\n",
    "\n",
    "function f1(x)\n",
    "    [x[1]+x[2]+(x[3]^2)-12; \n",
    "        (x[1]^2)-x[2]+x[3]-2;\n",
    "        (2*x[1]^2)-(x[2]^2)+x[3]-1]\n",
    "\n",
    "end\n",
    "\n",
    "function Df1(x)\n",
    "     [1 1 (2*x[3]);\n",
    "        (2*x[1]) -1 1;\n",
    "        (4*x[1]) (-2*x[2]) 1]\n",
    "end\n",
    "\n",
    "\n",
    "k = 0\n",
    "resual = DataFrame(k=NaN,x=NaN,f=NaN,invDf1=NaN,invDf2=NaN,err=NaN)\n",
    "\n",
    "while err>tol\n",
    "    x = x0 - inv(Df1(x0))*f1(x0)\n",
    "    err = maximum(abs(x-x0))\n",
    "    if k==0\n",
    "        resual = DataFrame(k=k,x=x0[1,1],f=f1(x0)[1,1],invDf1=inv(Df1(x0))[1,1],invDf2=inv(Df1(x0))[1,2],err=x[1,1]-x0[1,1])\n",
    "        push!(resual, @data([k,x0[2,1],f1(x0)[2,1],inv(Df1(x0))[2,1],inv(Df1(x0))[2,2],x[2,1]-x0[2,1]]))\n",
    "    else\n",
    "        push!(resual, @data([k,x0[1,1],f1(x0)[1,1],inv(Df1(x0))[1,1],inv(Df1(x0))[1,2],x[1,1]-x0[1,1]]))\n",
    "        push!(resual, @data([k,x0[2,1],f1(x0)[2,1],inv(Df1(x0))[2,1],inv(Df1(x0))[2,2],x[2,1]-x0[2,1]]))\n",
    "    end\n",
    "    x0 = x\n",
    "    k = k + 1\n",
    "end\n",
    "\n",
    "resual\n"
   ]
  },
  {
   "cell_type": "code",
   "execution_count": 24,
   "metadata": {
    "collapsed": false
   },
   "outputs": [
    {
     "data": {
      "text/plain": [
       "3-element Array{Float64,1}:\n",
       " 1.0\n",
       " 2.0\n",
       " 3.0"
      ]
     },
     "execution_count": 24,
     "metadata": {},
     "output_type": "execute_result"
    }
   ],
   "source": [
    "x"
   ]
  },
  {
   "cell_type": "markdown",
   "metadata": {},
   "source": [
    "2 - Derive the analytical version of the Newton-Raphson algorithm (including  $f(x)$\n",
    "  and  $f′(x)$\n",
    " ) for each expression below (separately). For each expression below, implement the Newton-Raphson algorithm, and find at least one root for each non-linear function below. Also plot  $f(x)$\n",
    "  around the solution(s). Prepare a data table with values for  $x$\n",
    " ,  $f(x)$\n",
    " ,  $f′(x)$\n",
    " , and  $err$\n",
    "  for each iteration."
   ]
  },
  {
   "cell_type": "markdown",
   "metadata": {
    "collapsed": true
   },
   "source": [
    "$3x^2−2x−4=0$\n",
    " \n",
    "$x−e^{−x^2}=0$\n",
    " \n",
    "$e^x−x^4=0$\n",
    " "
   ]
  },
  {
   "cell_type": "markdown",
   "metadata": {},
   "source": [
    "3 - Suppose you were provided the following cash flows for three different projects."
   ]
  }
 ],
 "metadata": {
  "anaconda-cloud": {},
  "kernelspec": {
   "display_name": "Julia 0.5.0",
   "language": "julia",
   "name": "julia-0.5"
  },
  "language_info": {
   "file_extension": ".jl",
   "mimetype": "application/julia",
   "name": "julia",
   "version": "0.5.0"
  }
 },
 "nbformat": 4,
 "nbformat_minor": 1
}
