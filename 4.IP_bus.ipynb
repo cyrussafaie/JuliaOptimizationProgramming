{
 "cells": [
  {
   "cell_type": "markdown",
   "metadata": {},
   "source": [
    "1 - The city of Chicago hired your services to create a daily schedule for the bus drivers for a given bus route. Because of changes in demand throughout the day, the number of buses needed varies. The number of buses scheduled are shown below:\n",
    "\n",
    "\n",
    "|Start\t|End\t|Buses|\n",
    "|-------|-------|-----|\n",
    "|12AM\t|4AM\t|2|\n",
    "|4AM\t|8AM\t|7|\n",
    "|8AM\t|12PM\t|10|\n",
    "|12PM|\t4PM\t|15|\n",
    "|4PM|\t8PM\t|5|\n",
    "|8PM|\t12AM\t|2|\n",
    "A driver must be scheduled for an 8 hour shift, and the driver has to start at the beginning of one of the stipulated starting times. The shifts start at midnight, 4AM, 8AM, 12PM, 4PM, 8PM, and last for 8 hours. Note that a bus driver that starts at 8PM works until 4AM of the next day.\n",
    "Your proposed schedule must include enough bus drivers to drive the scheduled buses in each period. All scheduled buses must be in service! Your goal is to minimize the number of bus drivers hired while making sure that there are enough drivers for the scheduled buses during each interval."
   ]
  },
  {
   "cell_type": "markdown",
   "metadata": {},
   "source": [
    "DriverStart12AM: # of drivers whom starts at 12am\n",
    "\n",
    "DriverStarta4AM: # of drivers whom starts at 4am\n",
    "\n",
    "DriverStart8AM: # of drivers whom starts at 8am\n",
    "\n",
    "DriverStart12PM: # of drivers whom starts at 12pm\n",
    "\n",
    "DriverStart4PM: # of drivers whom starts at 4pm\n",
    "\n",
    "DriverStart8PM: # of drivers whom starts at 8pm\n"
   ]
  },
  {
   "cell_type": "markdown",
   "metadata": {},
   "source": [
    "\\begin{equation}\n",
    "\\begin{array}{rrclcl}\n",
    "\\displaystyle \\min  & DriverStart12AM + DriverStart4AM + DriverStart8AM + DriverStart12PM + DriverStart4PM + DriverStart8PM\\\\\n",
    "\\textrm{s.t.} & DriverStart8PM + DriverStart12AM \\geq {2} \\\\\n",
    "& DriverStarta12AM+ DriverStarta4AM \\geq {7} \\\\\n",
    "& DriverStarta4AM+ DriverStarta18AM \\geq {10} \\\\\n",
    "& DriverStarta8APM+ DriverStarta12PM \\geq {15} \\\\\n",
    "& DriverStarta12PM+ DriverStarta4PM \\geq {5} \\\\\n",
    "& DriverStarta4PM+ DriverStarta8PM \\geq {2} \\\\\n",
    "& DriverAva_j\\geq0 & \\forall  j \\in {12AM,4AM,8AM,12PM,4PM,8PM} \\\\\n",
    "\\end{array}\n",
    "\\end{equation}"
   ]
  },
  {
   "cell_type": "code",
   "execution_count": 7,
   "metadata": {
    "collapsed": false
   },
   "outputs": [
    {
     "data": {
      "text/latex": [
       "$$ \\begin{alignat*}{1}\\min\\quad & DriverStart12AM + DriverStart4AM + DriverStart8AM + DriverStart12PM + DriverStart4PM + DriverStart8PM\\\\\n",
       "\\text{Subject to} \\quad & DriverStart8PM + DriverStart12AM \\geq 2\\\\\n",
       " & DriverStart12AM + DriverStart4AM \\geq 7\\\\\n",
       " & DriverStart4AM + DriverStart8AM \\geq 10\\\\\n",
       " & DriverStart8AM + DriverStart12PM \\geq 15\\\\\n",
       " & DriverStart12PM + DriverStart4PM \\geq 5\\\\\n",
       " & DriverStart4PM + DriverStart8PM \\geq 2\\\\\n",
       " & DriverStart12AM \\geq 0, \\in \\mathbb{Z}\\\\\n",
       " & DriverStart4AM \\geq 0, \\in \\mathbb{Z}\\\\\n",
       " & DriverStart8AM \\geq 0, \\in \\mathbb{Z}\\\\\n",
       " & DriverStart12PM \\geq 0, \\in \\mathbb{Z}\\\\\n",
       " & DriverStart4PM \\geq 0, \\in \\mathbb{Z}\\\\\n",
       " & DriverStart8PM \\geq 0, \\in \\mathbb{Z}\\\\\n",
       "\\end{alignat*}\n",
       " $$"
      ],
      "text/plain": [
       "Minimization problem with:\n",
       " * 6 linear constraints\n",
       " * 6 variables: 6 integer\n",
       "Solver is GLPKInterfaceMIP"
      ]
     },
     "execution_count": 7,
     "metadata": {},
     "output_type": "execute_result"
    }
   ],
   "source": [
    "using JuMP, GLPKMathProgInterface\n",
    "\n",
    "myModel = Model(solver=GLPKSolverMIP())\n",
    "@variable(myModel, DriverStart12AM >= 0, Int)\n",
    "@variable(myModel, DriverStart4AM >= 0, Int)\n",
    "@variable(myModel, DriverStart8AM >= 0, Int)\n",
    "@variable(myModel, DriverStart12PM >= 0, Int)\n",
    "@variable(myModel, DriverStart4PM >= 0, Int)\n",
    "@variable(myModel, DriverStart8PM >= 0, Int)\n",
    "\n",
    "@constraint(myModel, DriverStart8PM + DriverStart12AM >= 2)\n",
    "@constraint(myModel, DriverStart12AM + DriverStart4AM >= 7)\n",
    "@constraint(myModel,  DriverStart4AM + DriverStart8AM >= 10)\n",
    "@constraint(myModel,  DriverStart8AM + DriverStart12PM >= 15)\n",
    "@constraint(myModel,  DriverStart12PM + DriverStart4PM >= 5)\n",
    "@constraint(myModel,  DriverStart4PM + DriverStart8PM >= 2)\n",
    "@objective(myModel, Min, DriverStart12AM + DriverStart4AM + DriverStart8AM + DriverStart12PM + DriverStart4PM + DriverStart8PM)\n",
    "myModel"
   ]
  },
  {
   "cell_type": "code",
   "execution_count": 8,
   "metadata": {
    "collapsed": false
   },
   "outputs": [
    {
     "name": "stdout",
     "output_type": "stream",
     "text": [
      "  5.405280 seconds (3.36 M allocations: 140.680 MB, 1.68% gc time)\n",
      "Objective value: 24.0\n",
      "DriverStart12AM = 2.0\n",
      "DriverStart4AM = 5.0\n",
      "DriverStart8AM = 12.0\n",
      "DriverStart12PM = 3.0\n",
      "DriverStart4PM = 2.0\n",
      "DriverStart8PM = 0.0\n"
     ]
    }
   ],
   "source": [
    "@time begin\n",
    "    status = solve(myModel)\n",
    "end\n",
    "println(\"Objective value: \", getobjectivevalue(myModel))\n",
    "println(\"DriverStart12AM = \", getvalue(DriverStart12AM))\n",
    "println(\"DriverStart4AM = \", getvalue(DriverStart4AM))\n",
    "println(\"DriverStart8AM = \", getvalue(DriverStart8AM))\n",
    "println(\"DriverStart12PM = \", getvalue(DriverStart12PM))\n",
    "println(\"DriverStart4PM = \", getvalue(DriverStart4PM))\n",
    "println(\"DriverStart8PM = \", getvalue(DriverStart8PM))"
   ]
  },
  {
   "cell_type": "code",
   "execution_count": null,
   "metadata": {
    "collapsed": true
   },
   "outputs": [],
   "source": []
  }
 ],
 "metadata": {
  "kernelspec": {
   "display_name": "Julia 0.5.0",
   "language": "julia",
   "name": "julia-0.5"
  },
  "language_info": {
   "file_extension": ".jl",
   "mimetype": "application/julia",
   "name": "julia",
   "version": "0.5.0"
  }
 },
 "nbformat": 4,
 "nbformat_minor": 1
}
